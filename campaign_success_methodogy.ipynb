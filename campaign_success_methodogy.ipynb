{
 "cells": [
  {
   "cell_type": "code",
   "execution_count": 10,
   "metadata": {},
   "outputs": [],
   "source": [
    "import pandas as pd\n",
    "import numpy as np\n",
    "from sklearn.model_selection import train_test_split\n",
    "from sklearn.linear_model import LogisticRegression"
   ]
  },
  {
   "cell_type": "code",
   "execution_count": 11,
   "metadata": {},
   "outputs": [],
   "source": [
    "# Create sample marketing campaign data\n",
    "np.random.seed(42)\n",
    "n_samples = 2000\n",
    "\n",
    "data = {\n",
    "    'campaign_id': np.arange(1, n_samples + 1),\n",
    "    'channel': np.random.choice(['Facebook', 'Google', 'Instagram', 'LinkedIn'], n_samples),\n",
    "    'ad_type': np.random.choice(['Image', 'Video', 'Carousel', 'Text'], n_samples),\n",
    "    'budget': np.random.uniform(100, 1000, n_samples),\n",
    "    'impressions': np.random.randint(1000, 100000, n_samples),\n",
    "    'clicks': np.random.randint(10, 2000, n_samples),\n",
    "    'conversions': np.random.randint(1, 100, n_samples),  # Avoiding 0 for division\n",
    "    'time_of_day': np.random.choice(['Morning', 'Afternoon', 'Evening', 'Night'], n_samples),\n",
    "    'day_of_week': np.random.choice(['Weekday', 'Weekend'], n_samples),\n",
    "    'target_audience': np.random.choice(['Young', 'Adult', 'Senior'], n_samples),\n",
    "    'campaign_duration': np.random.randint(5, 30, n_samples),\n",
    "}\n",
    "\n",
    "# Calculate base metrics\n",
    "data['ctr'] = (data['clicks'] / data['impressions']) * 100\n",
    "data['conversion_rate'] = (data['conversions'] / data['clicks']) * 100\n",
    "data['cost_per_click'] = data['budget'] / data['clicks']\n",
    "\n",
    "# Add new metrics\n",
    "data['frequency'] = np.random.randint(2, 8, n_samples)  # Average number of times a user sees the ad\n",
    "data['cpm'] = (data['budget'] / data['impressions']) * 1000  # Cost per 1000 impressions\n",
    "data['reach'] = data['impressions'] / data['frequency']  # Unique users reached\n",
    "data['customer_acquisition_cost'] = data['budget'] / data['conversions']  # CAC\n",
    "data['lifetime_value'] = np.random.uniform(50, 500, n_samples)  # Estimated customer LTV\n",
    "data['roas'] = (data['conversions'] * data['lifetime_value']) / data['budget']  # Return on Ad Spend\n",
    "\n",
    "# Calculate base metrics\n",
    "data['ctr'] = (data['clicks'] / data['impressions']) * 100\n",
    "data['conversion_rate'] = (data['conversions'] / data['clicks']) * 100\n",
    "data['cost_per_click'] = data['budget'] / data['clicks']\n",
    "\n",
    "# Add new metrics\n",
    "data['frequency'] = np.random.randint(2, 8, n_samples)  # Average number of times a user sees the ad\n",
    "data['cpm'] = (data['budget'] / data['impressions']) * 1000  # Cost per 1000 impressions\n",
    "data['reach'] = data['impressions'] / data['frequency']  # Unique users reached\n",
    "data['customer_acquisition_cost'] = data['budget'] / data['conversions']  # CAC\n",
    "data['lifetime_value'] = np.random.uniform(50, 500, n_samples)  # Estimated customer LTV\n",
    "data['roas'] = (data['conversions'] * data['lifetime_value']) / data['budget']  # Return on Ad Spend\n"
   ]
  },
  {
   "cell_type": "code",
   "execution_count": 12,
   "metadata": {},
   "outputs": [],
   "source": [
    "# Create DataFrame\n",
    "marketing_df = pd.DataFrame(data)\n",
    "\n",
    "# Define success criteria incorporating new metrics\n",
    "marketing_df['is_successful'] = np.where(\n",
    "    (marketing_df['roas'] > 2) &  # ROAS > 200%\n",
    "    (marketing_df['conversion_rate'] > 2) &  # Conversion rate > 2%\n",
    "    (marketing_df['customer_acquisition_cost'] < 50) &  # CAC < $50\n",
    "    (marketing_df['cpm'] < 10),  # CPM < $10\n",
    "    1, 0\n",
    ")"
   ]
  },
  {
   "cell_type": "code",
   "execution_count": 24,
   "metadata": {},
   "outputs": [],
   "source": [
    "# After creating the DataFrame, simply use the to_csv method\n",
    "marketing_df.to_csv('marketing_campaign_data.csv', index=False)"
   ]
  },
  {
   "cell_type": "code",
   "execution_count": 13,
   "metadata": {},
   "outputs": [],
   "source": [
    "# Prepare data for modeling\n",
    "X = marketing_df.drop(['is_successful', 'campaign_id', 'lifetime_value'], axis=1)\n",
    "y = marketing_df['is_successful']"
   ]
  },
  {
   "cell_type": "code",
   "execution_count": 14,
   "metadata": {},
   "outputs": [],
   "source": [
    "# Handle categorical variables\n",
    "categorical_columns = ['channel', 'ad_type', 'time_of_day', 'day_of_week', 'target_audience']\n",
    "X_encoded = pd.get_dummies(X, columns=categorical_columns)"
   ]
  },
  {
   "cell_type": "code",
   "execution_count": 15,
   "metadata": {},
   "outputs": [],
   "source": [
    "# Split the data\n",
    "X_train, X_test, y_train, y_test = train_test_split(X_encoded, y, test_size=0.2, random_state=42)"
   ]
  },
  {
   "cell_type": "code",
   "execution_count": 19,
   "metadata": {},
   "outputs": [],
   "source": [
    "# Split the data\n",
    "X_train, X_test, y_train, y_test = train_test_split(X_encoded, y, test_size=0.2, random_state=42)\n"
   ]
  },
  {
   "cell_type": "code",
   "execution_count": 20,
   "metadata": {},
   "outputs": [
    {
     "name": "stderr",
     "output_type": "stream",
     "text": [
      "/opt/anaconda3/envs/CAB_V1/lib/python3.12/site-packages/sklearn/linear_model/_logistic.py:465: ConvergenceWarning: lbfgs failed to converge (status=1):\n",
      "STOP: TOTAL NO. of ITERATIONS REACHED LIMIT.\n",
      "\n",
      "Increase the number of iterations (max_iter) or scale the data as shown in:\n",
      "    https://scikit-learn.org/stable/modules/preprocessing.html\n",
      "Please also refer to the documentation for alternative solver options:\n",
      "    https://scikit-learn.org/stable/modules/linear_model.html#logistic-regression\n",
      "  n_iter_i = _check_optimize_result(\n"
     ]
    }
   ],
   "source": [
    "# Define and train the model\n",
    "model = LogisticRegression(max_iter=1000)\n",
    "model.fit(X_train, y_train)\n",
    "\n",
    "# Make predictions\n",
    "predictions = model.predict(X_test)"
   ]
  },
  {
   "cell_type": "code",
   "execution_count": 21,
   "metadata": {},
   "outputs": [
    {
     "name": "stdout",
     "output_type": "stream",
     "text": [
      "\n",
      "Model Performance:\n",
      "              precision    recall  f1-score   support\n",
      "\n",
      "           0       0.90      0.93      0.92       237\n",
      "           1       0.90      0.85      0.87       163\n",
      "\n",
      "    accuracy                           0.90       400\n",
      "   macro avg       0.90      0.89      0.90       400\n",
      "weighted avg       0.90      0.90      0.90       400\n",
      "\n"
     ]
    }
   ],
   "source": [
    "# Performance Analysis\n",
    "from sklearn.metrics import classification_report\n",
    "print(\"\\nModel Performance:\")\n",
    "print(classification_report(y_test, predictions))\n"
   ]
  },
  {
   "cell_type": "code",
   "execution_count": 22,
   "metadata": {},
   "outputs": [
    {
     "name": "stdout",
     "output_type": "stream",
     "text": [
      "\n",
      "Key Metrics Summary:\n",
      "          cpm     reach  customer_acquisition_cost   roas\n",
      "mean    29.06  13313.63                      28.34  35.69\n",
      "median  10.93  11059.69                      10.85  21.95\n",
      "std     65.64  10525.68                      76.89  44.16\n"
     ]
    }
   ],
   "source": [
    "# Metrics Analysis\n",
    "print(\"\\nKey Metrics Summary:\")\n",
    "metrics_summary = marketing_df.agg({\n",
    "    'cpm': ['mean', 'median', 'std'],\n",
    "    'reach': ['mean', 'median', 'std'],\n",
    "    'customer_acquisition_cost': ['mean', 'median', 'std'],\n",
    "    'roas': ['mean', 'median', 'std']\n",
    "}).round(2)\n",
    "print(metrics_summary)"
   ]
  },
  {
   "cell_type": "code",
   "execution_count": 23,
   "metadata": {},
   "outputs": [
    {
     "name": "stdout",
     "output_type": "stream",
     "text": [
      "\n",
      "Channel Performance:\n",
      "             cpm     reach  customer_acquisition_cost   roas  is_successful\n",
      "channel                                                                    \n",
      "Facebook   29.82  13606.82                      25.45  36.41           0.39\n",
      "Google     30.51  13276.03                      31.58  35.90           0.37\n",
      "Instagram  27.33  13050.35                      30.38  36.06           0.39\n",
      "LinkedIn   28.53  13301.16                      26.15  34.34           0.34\n"
     ]
    }
   ],
   "source": [
    "# Channel Performance Analysis\n",
    "channel_performance = marketing_df.groupby('channel').agg({\n",
    "    'cpm': 'mean',\n",
    "    'reach': 'mean',\n",
    "    'customer_acquisition_cost': 'mean',\n",
    "    'roas': 'mean',\n",
    "    'is_successful': 'mean'\n",
    "}).round(2)\n",
    "print(\"\\nChannel Performance:\")\n",
    "print(channel_performance)"
   ]
  }
 ],
 "metadata": {
  "kernelspec": {
   "display_name": "CAB_V1",
   "language": "python",
   "name": "python3"
  },
  "language_info": {
   "codemirror_mode": {
    "name": "ipython",
    "version": 3
   },
   "file_extension": ".py",
   "mimetype": "text/x-python",
   "name": "python",
   "nbconvert_exporter": "python",
   "pygments_lexer": "ipython3",
   "version": "3.12.2"
  }
 },
 "nbformat": 4,
 "nbformat_minor": 2
}
