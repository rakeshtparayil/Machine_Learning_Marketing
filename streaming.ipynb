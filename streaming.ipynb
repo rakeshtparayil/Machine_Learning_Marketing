{
 "cells": [
  {
   "cell_type": "markdown",
   "metadata": {},
   "source": [
    "# Importing the necessary libraries "
   ]
  },
  {
   "cell_type": "code",
   "execution_count": 90,
   "metadata": {},
   "outputs": [],
   "source": [
    "import pandas as pd\n",
    "import numpy as np\n",
    "import matplotlib.pyplot as plt\n",
    "import seaborn as sns\n",
    "from sklearn.preprocessing import StandardScaler\n",
    "from sklearn.model_selection import train_test_split\n",
    "from sklearn.linear_model import LogisticRegression\n",
    "from sklearn.metrics import classification_report\n",
    "from sklearn.metrics import confusion_matrix\n",
    "from tabulate import tabulate\n",
    "import json\n",
    "from sklearn.ensemble import RandomForestClassifier\n",
    "from sklearn.metrics import classification_report"
   ]
  },
  {
   "cell_type": "markdown",
   "metadata": {},
   "source": [
    "# Loading the CSV Files "
   ]
  },
  {
   "cell_type": "code",
   "execution_count": 91,
   "metadata": {},
   "outputs": [],
   "source": [
    "# importing the csv file \n",
    "streaming = pd.read_csv('stream1.csv')"
   ]
  },
  {
   "cell_type": "markdown",
   "metadata": {},
   "source": [
    "# cleaning the headers etc "
   ]
  },
  {
   "cell_type": "code",
   "execution_count": 92,
   "metadata": {},
   "outputs": [
    {
     "name": "stderr",
     "output_type": "stream",
     "text": [
      "/var/folders/ms/kffv8scn23l62n_5h2kgw9sw0000gn/T/ipykernel_3140/972947484.py:6: UserWarning: Could not infer format, so each element will be parsed individually, falling back to `dateutil`. To ensure parsing is consistent and as-expected, please specify a format.\n",
      "  streaming[date_columns] = streaming[date_columns].apply(pd.to_datetime)\n",
      "/var/folders/ms/kffv8scn23l62n_5h2kgw9sw0000gn/T/ipykernel_3140/972947484.py:6: UserWarning: Could not infer format, so each element will be parsed individually, falling back to `dateutil`. To ensure parsing is consistent and as-expected, please specify a format.\n",
      "  streaming[date_columns] = streaming[date_columns].apply(pd.to_datetime)\n",
      "/var/folders/ms/kffv8scn23l62n_5h2kgw9sw0000gn/T/ipykernel_3140/972947484.py:6: UserWarning: Could not infer format, so each element will be parsed individually, falling back to `dateutil`. To ensure parsing is consistent and as-expected, please specify a format.\n",
      "  streaming[date_columns] = streaming[date_columns].apply(pd.to_datetime)\n"
     ]
    }
   ],
   "source": [
    "#changing headers to lowercase and removing spaces\n",
    "streaming.columns = streaming.columns.str.lower().str.replace(' ', '_')\n",
    "\n",
    "#convert time related columns to datetime\n",
    "date_columns = ['install_time','event_time', 'attributed_touch_time']\n",
    "streaming[date_columns] = streaming[date_columns].apply(pd.to_datetime)\n",
    "\n",
    "#convert categorical columns to category\n",
    "to_category = ['attributed_touch_type','event_name','media_source','channel','campaign','adset','ad','country_code',\n",
    "            'city','device_type','device_category','platform']\n",
    "streaming[to_category] = streaming[to_category].astype('category')\n",
    "\n",
    "# Convert IDs and IP addresses to string\n",
    "id_columns = ['campaign_id', 'adset_id', 'ad_id', 'appsflyer_id', 'customer_user_id', 'ip']\n",
    "streaming[id_columns] = streaming[id_columns].astype('string')\n",
    "\n",
    "\n"
   ]
  },
  {
   "cell_type": "markdown",
   "metadata": {},
   "source": [
    "# EDA"
   ]
  },
  {
   "cell_type": "code",
   "execution_count": 93,
   "metadata": {},
   "outputs": [
    {
     "name": "stdout",
     "output_type": "stream",
     "text": [
      "['af_media_play', 'af_media_minutes', 'af_content_view', 'AFEventDownload', 'push_screen_allow', ..., 'af_login_success', 'af_add_to_wishlist', 'af_renewal', 'af_subscribe', 'af_paying_conversion']\n",
      "Length: 19\n",
      "Categories (19, object): ['AFEventDownload', 'AFEventVIDEOPLAY', 'af_add_to_wishlist', 'af_content_view', ..., 'af_subscribe', 'push_screen', 'push_screen_allow', 'push_screen_maybe_later']\n",
      "event_name\n",
      "af_media_play              107069\n",
      "af_media_minutes             8798\n",
      "af_content_view              8421\n",
      "push_screen                  3185\n",
      "push_screen_maybe_later      2214\n",
      "af_initiated_checkout        2177\n",
      "AFEventVIDEOPLAY             1730\n",
      "af_signup_success             930\n",
      "af_media_downloaded           900\n",
      "push_screen_allow             845\n",
      "AFEventDownload               425\n",
      "af_my_list                    328\n",
      "af_purchase                   167\n",
      "af_start_trial                163\n",
      "af_login_success              163\n",
      "af_renewal                     89\n",
      "af_subscribe                   43\n",
      "af_paying_conversion           41\n",
      "af_add_to_wishlist              3\n",
      "Name: count, dtype: int64\n"
     ]
    }
   ],
   "source": [
    "#print the unique event names in the dataset\n",
    "print(streaming['event_name'].unique())\n",
    "\n",
    "#finding the count of event name in the dataset\n",
    "print(streaming['event_name'].value_counts())\n"
   ]
  },
  {
   "cell_type": "code",
   "execution_count": 94,
   "metadata": {},
   "outputs": [
    {
     "name": "stdout",
     "output_type": "stream",
     "text": [
      "                     event_name\n",
      "media_source                   \n",
      "Apple Search Ads            416\n",
      "snapchat_int                159\n",
      "restricted                  115\n",
      "googleadwords_int            55\n",
      "SMS                          36\n",
      "Facebook Ads                 28\n",
      "mobupps_int                  14\n",
      "Social BIO                   14\n",
      "wondermars_int               11\n",
      "rtbhouse_int                 11\n",
      "appfloodaff_int              10\n",
      "Mobily KSA                    8\n",
      "adtiming_int                  7\n",
      "bytedanceglobal_int           4\n",
      "taptica_int                   4\n",
      "Etisalat                      3\n",
      "appicmedia_int                2\n",
      "email                         1\n",
      "playdigo_int                  0\n",
      "performante_int               0\n",
      "xapads_int                    0\n",
      "techido_int                   0\n",
      "tyroo_int                     0\n",
      "mobvista_int                  0\n",
      "urbanconnection_int           0\n",
      "mobrain_int                   0\n",
      "mobligent_int                 0\n",
      "mfaas_int                     0\n",
      "volomedia_int                 0\n",
      "inmobi_int                    0\n",
      "influencers                   0\n",
      "propellerads_int              0\n",
      "bcnmonetize_int               0\n",
      "galaksion_int                 0\n",
      "doubleclick_int               0\n",
      "Email                         0\n",
      "Omantel                       0\n",
      "Ooredoo Qatar                 0\n",
      "Podcast                       0\n",
      "STARZPLAY                     0\n",
      "STC Kuwait                    0\n",
      "Sharaf DG                     0\n",
      "Social                        0\n",
      "Viva Kuwait                   0\n",
      "Zain Iraq SMS                 0\n",
      "Zain KSA                      0\n",
      "ad2click_int                  0\n",
      "adcountymedia_int             0\n",
      "appliftcustom_int             0\n",
      "appricotads_int               0\n",
      "arabyads_int                  0\n",
      "avow1_int                     0\n",
      "Asia Cell Iraq                0\n",
      "claymotion_int                0\n",
      "youappi_int                   0\n"
     ]
    }
   ],
   "source": [
    "pivot = (\n",
    "    streaming[streaming['event_name'] == 'af_media_downloaded']\n",
    "    .pivot_table(index='media_source', values='event_name', aggfunc='count',observed=False)\n",
    "    .sort_values(by='event_name', ascending=False)\n",
    ")\n",
    "\n",
    "print(pivot)"
   ]
  },
  {
   "cell_type": "code",
   "execution_count": 95,
   "metadata": {},
   "outputs": [
    {
     "name": "stdout",
     "output_type": "stream",
     "text": [
      "attributed_touch_type     4281\n",
      "attributed_touch_time    11038\n",
      "install_time                 0\n",
      "event_time                   0\n",
      "event_name                   0\n",
      "event_value                  0\n",
      "media_source               135\n",
      "channel                  66036\n",
      "campaign                  6824\n",
      "campaign_id              15696\n",
      "adset                    16370\n",
      "adset_id                 16758\n",
      "ad                       82365\n",
      "ad_id                    83174\n",
      "country_code                 0\n",
      "city                         0\n",
      "ip                         150\n",
      "language                  1429\n",
      "appsflyer_id                 0\n",
      "customer_user_id          5920\n",
      "device_type               1429\n",
      "device_category           1429\n",
      "platform                     0\n",
      "dtype: int64\n"
     ]
    }
   ],
   "source": [
    "#finding the null values in the dataset\n",
    "print(streaming.isnull().sum())\n"
   ]
  },
  {
   "cell_type": "code",
   "execution_count": 96,
   "metadata": {},
   "outputs": [],
   "source": [
    "#create a copy of the dataframe \n",
    "streaming_copy = streaming.copy()\n",
    "\n",
    "#removing the unnecessary columns\n",
    "streaming_copy.drop(['channel','campaign_id', 'adset', 'adset_id', 'ad', 'ad_id', 'language', 'customer_user_id'], axis=1, inplace=True)\n"
   ]
  },
  {
   "cell_type": "markdown",
   "metadata": {},
   "source": [
    "# Finding the channel quality "
   ]
  },
  {
   "cell_type": "code",
   "execution_count": 97,
   "metadata": {},
   "outputs": [
    {
     "name": "stdout",
     "output_type": "stream",
     "text": [
      "media_source\n",
      "mobvista_int           454.000000\n",
      "doubleclick_int        170.000000\n",
      "Apple Search Ads         1.475904\n",
      "Facebook Ads             1.409091\n",
      "snapchat_int             1.245070\n",
      "googleadwords_int        0.699531\n",
      "bytedanceglobal_int      0.096774\n",
      "Email                    0.000000\n",
      "Etisalat                 0.000000\n",
      "STC Kuwait               0.000000\n",
      "Name: time_to_signup, dtype: float64\n"
     ]
    },
    {
     "name": "stderr",
     "output_type": "stream",
     "text": [
      "/var/folders/ms/kffv8scn23l62n_5h2kgw9sw0000gn/T/ipykernel_3140/1315891221.py:9: FutureWarning: The default of observed=False is deprecated and will be changed to True in a future version of pandas. Pass observed=False to retain current behavior or observed=True to adopt the future default and silence this warning.\n",
      "  print(streaming_copy.groupby('media_source')['time_to_signup'].mean().sort_values(ascending=False).head(10))\n"
     ]
    }
   ],
   "source": [
    "# #show the distinct values in event_name column in table format\n",
    "# print(tabulate(streaming_copy['event_name'].value_counts().reset_index(), headers=['Event Name', 'Count'], tablefmt='pretty'))\n",
    "\n",
    "#calculate the time taken between install and signup \n",
    "streaming_copy['time_to_signup'] = (streaming_copy.loc[streaming_copy['event_name'] == 'af_signup_success', 'event_time'] - \n",
    "\t\t\t\t\t\t\t\t\tstreaming_copy.loc[streaming_copy['event_name'] == 'af_signup_success', 'install_time']).dt.days\n",
    "\n",
    "#show the time taken between install and signup by media source\n",
    "print(streaming_copy.groupby('media_source')['time_to_signup'].mean().sort_values(ascending=False).head(10))\n",
    "\n"
   ]
  },
  {
   "cell_type": "markdown",
   "metadata": {},
   "source": [
    "# ML Approach: Predicting Paying Users "
   ]
  },
  {
   "cell_type": "code",
   "execution_count": 98,
   "metadata": {},
   "outputs": [
    {
     "name": "stdout",
     "output_type": "stream",
     "text": [
      "Classification Report:\n",
      "               precision    recall  f1-score   support\n",
      "\n",
      "           0       1.00      1.00      1.00     27530\n",
      "           1       0.25      0.22      0.24         9\n",
      "\n",
      "    accuracy                           1.00     27539\n",
      "   macro avg       0.62      0.61      0.62     27539\n",
      "weighted avg       1.00      1.00      1.00     27539\n",
      "\n",
      "Accuracy Score: 0.9995279421910744\n"
     ]
    },
    {
     "data": {
      "image/png": "[encoded data removed]",
      "text/plain": [
       "<Figure size 640x480 with 2 Axes>"
      ]
     },
     "metadata": {},
     "output_type": "display_data"
    }
   ],
   "source": [
    "# Time-Based Features\n",
    "\n",
    "streaming[\"time_diff_days\"] = (streaming[\"event_time\"] - streaming[\"install_time\"]).dt.total_seconds() / (3600 * 24)\n",
    "streaming[\"touch_to_install_time\"] = (streaming[\"install_time\"] - streaming[\"attributed_touch_time\"]).dt.total_seconds() / 3600\n",
    "streaming[\"session_hour\"] = streaming[\"event_time\"].dt.hour\n",
    "\n",
    "# Content-Based Features\n",
    "streaming[\"media_duration\"] = streaming[\"event_value\"].apply(lambda x: json.loads(x).get(\"media_duration\", 0) if pd.notnull(x) else 0)\n",
    "streaming[\"content_type\"] = streaming[\"event_value\"].apply(lambda x: json.loads(x).get(\"af_content_type\", \"unknown\") if pd.notnull(x) else \"unknown\")\n",
    "streaming[\"content_language\"] = streaming[\"event_value\"].apply(lambda x: json.loads(x).get(\"language\", \"unknown\") if pd.notnull(x) else \"unknown\")\n",
    "\n",
    "# User Engagement Features\n",
    "streaming[\"event_count_per_user\"] = streaming.groupby(\"appsflyer_id\")[\"event_name\"].transform(\"count\")\n",
    "streaming[\"unique_content_views\"] = streaming.groupby(\"appsflyer_id\")[\"event_value\"].transform(lambda x: x.nunique())\n",
    "\n",
    "# Encode Categorical Features\n",
    "streaming = pd.get_dummies(streaming, columns=[\"content_type\", \"content_language\", \"media_source\"], drop_first=True)\n",
    "\n",
    "# Target Variable (Assuming 'af_subscribe' exists)\n",
    "streaming[\"is_subscribed\"] = streaming[\"event_name\"].apply(lambda x: 1 if x == \"af_subscribe\" else 0)\n",
    "\n",
    "# Features & Target\n",
    "features = [\"time_diff_days\", \"touch_to_install_time\", \"session_hour\", \"media_duration\", \n",
    "            \"event_count_per_user\", \"unique_content_views\"] + \\\n",
    "           [col for col in streaming.columns if \"content_type_\" in col or \"Media Source_\" in col]\n",
    "\n",
    "X = streaming[features]\n",
    "y = streaming[\"is_subscribed\"]\n",
    "\n",
    "# Train-Test Split\n",
    "X_train, X_test, y_train, y_test = train_test_split(X, y, test_size=0.2, random_state=42)\n",
    "\n",
    "# Model Training\n",
    "model = RandomForestClassifier(n_estimators=100, random_state=42)\n",
    "model.fit(X_train, y_train)\n",
    "\n",
    "# Predictions\n",
    "y_pred = model.predict(X_test)\n",
    "\n",
    "# Evaluation\n",
    "print(\"Classification Report:\\n\", classification_report(y_test, y_pred))\n",
    "print(\"Accuracy Score:\", accuracy_score(y_test, y_pred))\n",
    "\n",
    "# Confusion Matrix\n",
    "cm = confusion_matrix(y_test, y_pred)\n",
    "sns.heatmap(cm, annot=True, fmt='d', cmap='Blues')\n",
    "plt.xlabel('Predicted')\n",
    "plt.ylabel('Actual')\n",
    "plt.title('Confusion Matrix')\n",
    "plt.show()"
   ]
  },
  {
   "cell_type": "code",
   "execution_count": 106,
   "metadata": {},
   "outputs": [
    {
     "data": {
      "text/html": [
       "<div>\n",
       "<style scoped>\n",
       "    .dataframe tbody tr th:only-of-type {\n",
       "        vertical-align: middle;\n",
       "    }\n",
       "\n",
       "    .dataframe tbody tr th {\n",
       "        vertical-align: top;\n",
       "    }\n",
       "\n",
       "    .dataframe thead th {\n",
       "        text-align: right;\n",
       "    }\n",
       "</style>\n",
       "<table border=\"1\" class=\"dataframe\">\n",
       "  <thead>\n",
       "    <tr style=\"text-align: right;\">\n",
       "      <th></th>\n",
       "      <th>event_name</th>\n",
       "      <th>is_subscribed</th>\n",
       "      <th>predicted_is_subscribed</th>\n",
       "    </tr>\n",
       "  </thead>\n",
       "  <tbody>\n",
       "    <tr>\n",
       "      <th>85512</th>\n",
       "      <td>af_subscribe</td>\n",
       "      <td>1</td>\n",
       "      <td>0.0</td>\n",
       "    </tr>\n",
       "    <tr>\n",
       "      <th>85514</th>\n",
       "      <td>af_subscribe</td>\n",
       "      <td>1</td>\n",
       "      <td>0.0</td>\n",
       "    </tr>\n",
       "    <tr>\n",
       "      <th>85515</th>\n",
       "      <td>af_subscribe</td>\n",
       "      <td>1</td>\n",
       "      <td>0.0</td>\n",
       "    </tr>\n",
       "    <tr>\n",
       "      <th>85522</th>\n",
       "      <td>af_subscribe</td>\n",
       "      <td>1</td>\n",
       "      <td>1.0</td>\n",
       "    </tr>\n",
       "    <tr>\n",
       "      <th>85525</th>\n",
       "      <td>af_subscribe</td>\n",
       "      <td>1</td>\n",
       "      <td>0.0</td>\n",
       "    </tr>\n",
       "    <tr>\n",
       "      <th>85526</th>\n",
       "      <td>af_subscribe</td>\n",
       "      <td>1</td>\n",
       "      <td>0.0</td>\n",
       "    </tr>\n",
       "    <tr>\n",
       "      <th>85539</th>\n",
       "      <td>af_subscribe</td>\n",
       "      <td>1</td>\n",
       "      <td>0.0</td>\n",
       "    </tr>\n",
       "    <tr>\n",
       "      <th>85540</th>\n",
       "      <td>af_subscribe</td>\n",
       "      <td>1</td>\n",
       "      <td>0.0</td>\n",
       "    </tr>\n",
       "    <tr>\n",
       "      <th>85546</th>\n",
       "      <td>af_subscribe</td>\n",
       "      <td>1</td>\n",
       "      <td>1.0</td>\n",
       "    </tr>\n",
       "  </tbody>\n",
       "</table>\n",
       "</div>"
      ],
      "text/plain": [
       "         event_name  is_subscribed  predicted_is_subscribed\n",
       "85512  af_subscribe              1                      0.0\n",
       "85514  af_subscribe              1                      0.0\n",
       "85515  af_subscribe              1                      0.0\n",
       "85522  af_subscribe              1                      1.0\n",
       "85525  af_subscribe              1                      0.0\n",
       "85526  af_subscribe              1                      0.0\n",
       "85539  af_subscribe              1                      0.0\n",
       "85540  af_subscribe              1                      0.0\n",
       "85546  af_subscribe              1                      1.0"
      ]
     },
     "execution_count": 106,
     "metadata": {},
     "output_type": "execute_result"
    }
   ],
   "source": [
    "actual_vs_predicted = streaming.loc[\n",
    "    (streaming.index.isin(X_test.index)) & (streaming[\"event_name\"] == \"af_subscribe\"),\n",
    "    [\"event_name\", \"is_subscribed\", \"predicted_is_subscribed\"]\n",
    "]\n",
    "actual_vs_predicted"
   ]
  }
 ],
 "metadata": {
  "kernelspec": {
   "display_name": "CAB_V1",
   "language": "python",
   "name": "python3"
  },
  "language_info": {
   "codemirror_mode": {
    "name": "ipython",
    "version": 3
   },
   "file_extension": ".py",
   "mimetype": "text/x-python",
   "name": "python",
   "nbconvert_exporter": "python",
   "pygments_lexer": "ipython3",
   "version": "3.12.2"
  }
 },
 "nbformat": 4,
 "nbformat_minor": 2
}
