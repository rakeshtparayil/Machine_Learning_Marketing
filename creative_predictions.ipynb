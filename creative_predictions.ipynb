{
 "cells": [
  {
   "cell_type": "code",
   "execution_count": 33,
   "metadata": {},
   "outputs": [],
   "source": [
    "import pandas as pd\n",
    "import numpy as np\n",
    "import matplotlib.pyplot as plt\n",
    "import seaborn as sns"
   ]
  },
  {
   "cell_type": "markdown",
   "metadata": {},
   "source": [
    "# EDA"
   ]
  },
  {
   "cell_type": "markdown",
   "metadata": {},
   "source": [
    "## importing the CSV   "
   ]
  },
  {
   "cell_type": "code",
   "execution_count": 34,
   "metadata": {},
   "outputs": [],
   "source": [
    "# import data\n",
    "meta = pd.read_csv('metav.csv')"
   ]
  },
  {
   "cell_type": "code",
   "execution_count": 35,
   "metadata": {},
   "outputs": [
    {
     "name": "stdout",
     "output_type": "stream",
     "text": [
      "<class 'pandas.core.frame.DataFrame'>\n",
      "RangeIndex: 14066 entries, 0 to 14065\n",
      "Data columns (total 36 columns):\n",
      " #   Column                            Non-Null Count  Dtype  \n",
      "---  ------                            --------------  -----  \n",
      " 0   Account name                      14031 non-null  object \n",
      " 1   Day                               14066 non-null  object \n",
      " 2   Ad name                           14066 non-null  object \n",
      " 3   Ads                               14066 non-null  object \n",
      " 4   Campaign name                     14066 non-null  object \n",
      " 5   Ad Set Name                       14066 non-null  object \n",
      " 6   Reach                             12994 non-null  float64\n",
      " 7   Impressions                       12994 non-null  float64\n",
      " 8   Frequency                         12994 non-null  float64\n",
      " 9   Currency                          14066 non-null  object \n",
      " 10  Amount spent (INR)                12910 non-null  float64\n",
      " 11  Attribution setting               14066 non-null  object \n",
      " 12  Purchases                         275 non-null    float64\n",
      " 13  Purchases conversion value        162 non-null    float64\n",
      " 14  Link clicks                       10613 non-null  float64\n",
      " 15  CPC (cost per link click)         10613 non-null  float64\n",
      " 16  Clicks (all)                      11097 non-null  float64\n",
      " 17  CPC (all)                         11097 non-null  float64\n",
      " 18  CPM (cost per 1,000 impressions)  12910 non-null  float64\n",
      " 19  CTR (all)                         11097 non-null  float64\n",
      " 20  Views                             8195 non-null   float64\n",
      " 21  Page engagement                   11366 non-null  float64\n",
      " 22  Follows or likes                  476 non-null    float64\n",
      " 23  Post comments                     1149 non-null   float64\n",
      " 24  Post engagements                  11366 non-null  float64\n",
      " 25  Post reactions                    9454 non-null   float64\n",
      " 26  Post shares                       6367 non-null   float64\n",
      " 27  Photo views                       10 non-null     float64\n",
      " 28  Check-ins                         0 non-null      float64\n",
      " 29  Video plays at 100%               5572 non-null   float64\n",
      " 30  Video plays at 25%                5885 non-null   float64\n",
      " 31  Adds to cart                      452 non-null    float64\n",
      " 32  Adds to wishlist                  0 non-null      float64\n",
      " 33  Leads                             8227 non-null   float64\n",
      " 34  Reporting starts                  14066 non-null  object \n",
      " 35  Reporting ends                    14066 non-null  object \n",
      "dtypes: float64(26), object(10)\n",
      "memory usage: 3.9+ MB\n"
     ]
    }
   ],
   "source": [
    "meta.info()"
   ]
  },
  {
   "cell_type": "code",
   "execution_count": 36,
   "metadata": {},
   "outputs": [
    {
     "name": "stdout",
     "output_type": "stream",
     "text": [
      "Account name                           35\n",
      "Day                                     0\n",
      "Ad name                                 0\n",
      "Ads                                     0\n",
      "Campaign name                           0\n",
      "Ad Set Name                             0\n",
      "Reach                                1072\n",
      "Impressions                          1072\n",
      "Frequency                            1072\n",
      "Currency                                0\n",
      "Amount spent (INR)                   1156\n",
      "Attribution setting                     0\n",
      "Purchases                           13791\n",
      "Purchases conversion value          13904\n",
      "Link clicks                          3453\n",
      "CPC (cost per link click)            3453\n",
      "Clicks (all)                         2969\n",
      "CPC (all)                            2969\n",
      "CPM (cost per 1,000 impressions)     1156\n",
      "CTR (all)                            2969\n",
      "Views                                5871\n",
      "Page engagement                      2700\n",
      "Follows or likes                    13590\n",
      "Post comments                       12917\n",
      "Post engagements                     2700\n",
      "Post reactions                       4612\n",
      "Post shares                          7699\n",
      "Photo views                         14056\n",
      "Check-ins                           14066\n",
      "Video plays at 100%                  8494\n",
      "Video plays at 25%                   8181\n",
      "Adds to cart                        13614\n",
      "Adds to wishlist                    14066\n",
      "Leads                                5839\n",
      "Reporting starts                        0\n",
      "Reporting ends                          0\n",
      "dtype: int64\n"
     ]
    }
   ],
   "source": [
    "#finding the null values\n",
    "print(meta.isnull().sum())"
   ]
  },
  {
   "cell_type": "code",
   "execution_count": 37,
   "metadata": {},
   "outputs": [],
   "source": [
    "#copy of the data set\n",
    "meta1 = meta.copy()\n"
   ]
  },
  {
   "cell_type": "code",
   "execution_count": 38,
   "metadata": {},
   "outputs": [],
   "source": [
    "#droping few columns\n",
    "\n",
    "meta1.drop(['Check-ins'], axis=1, inplace=True)\n",
    "meta1.drop(['Attribution setting'], axis=1, inplace=True)\n",
    "meta1.drop(['Reporting starts'], axis=1, inplace=True)\n",
    "meta1.drop(['Reporting ends'], axis=1, inplace=True)\n",
    "meta1.drop(['Currency'], axis=1, inplace=True)"
   ]
  },
  {
   "cell_type": "code",
   "execution_count": 39,
   "metadata": {},
   "outputs": [
    {
     "name": "stdout",
     "output_type": "stream",
     "text": [
      "<class 'pandas.core.frame.DataFrame'>\n",
      "RangeIndex: 14066 entries, 0 to 14065\n",
      "Data columns (total 31 columns):\n",
      " #   Column                            Non-Null Count  Dtype  \n",
      "---  ------                            --------------  -----  \n",
      " 0   Account name                      14031 non-null  object \n",
      " 1   Day                               14066 non-null  object \n",
      " 2   Ad name                           14066 non-null  object \n",
      " 3   Ads                               14066 non-null  object \n",
      " 4   Campaign name                     14066 non-null  object \n",
      " 5   Ad Set Name                       14066 non-null  object \n",
      " 6   Reach                             12994 non-null  float64\n",
      " 7   Impressions                       12994 non-null  float64\n",
      " 8   Frequency                         12994 non-null  float64\n",
      " 9   Amount spent (INR)                12910 non-null  float64\n",
      " 10  Purchases                         275 non-null    float64\n",
      " 11  Purchases conversion value        162 non-null    float64\n",
      " 12  Link clicks                       10613 non-null  float64\n",
      " 13  CPC (cost per link click)         10613 non-null  float64\n",
      " 14  Clicks (all)                      11097 non-null  float64\n",
      " 15  CPC (all)                         11097 non-null  float64\n",
      " 16  CPM (cost per 1,000 impressions)  12910 non-null  float64\n",
      " 17  CTR (all)                         11097 non-null  float64\n",
      " 18  Views                             8195 non-null   float64\n",
      " 19  Page engagement                   11366 non-null  float64\n",
      " 20  Follows or likes                  476 non-null    float64\n",
      " 21  Post comments                     1149 non-null   float64\n",
      " 22  Post engagements                  11366 non-null  float64\n",
      " 23  Post reactions                    9454 non-null   float64\n",
      " 24  Post shares                       6367 non-null   float64\n",
      " 25  Photo views                       10 non-null     float64\n",
      " 26  Video plays at 100%               5572 non-null   float64\n",
      " 27  Video plays at 25%                5885 non-null   float64\n",
      " 28  Adds to cart                      452 non-null    float64\n",
      " 29  Adds to wishlist                  0 non-null      float64\n",
      " 30  Leads                             8227 non-null   float64\n",
      "dtypes: float64(25), object(6)\n",
      "memory usage: 3.3+ MB\n"
     ]
    }
   ],
   "source": [
    "meta1.info()"
   ]
  },
  {
   "cell_type": "code",
   "execution_count": 43,
   "metadata": {},
   "outputs": [],
   "source": [
    "#changing the column names to lower case and replacing the space with underscore\n",
    "meta1.columns = meta1.columns.str.lower().str.replace(' ', '_')\n",
    "\n",
    "#changing the column names for better understanding\n",
    "meta1.rename(columns={\n",
    "    'cpc_(cost_per_click)': 'cpc', \n",
    "    'cpm_(cost_per_impressions)': 'cpm',\n",
    "    'ctr_(click_through_rate)': 'ctr',\n",
    "    'link_clicks':'clicks',\n",
    "    'amount_spent_(inr)':'spent',\n",
    "    \n",
    "\n",
    "    }, inplace=True)\n"
   ]
  },
  {
   "cell_type": "code",
   "execution_count": 42,
   "metadata": {},
   "outputs": [
    {
     "name": "stdout",
     "output_type": "stream",
     "text": [
      "<class 'pandas.core.frame.DataFrame'>\n",
      "RangeIndex: 14066 entries, 0 to 14065\n",
      "Data columns (total 31 columns):\n",
      " #   Column                            Non-Null Count  Dtype  \n",
      "---  ------                            --------------  -----  \n",
      " 0   account_name                      14031 non-null  object \n",
      " 1   day                               14066 non-null  object \n",
      " 2   ad_name                           14066 non-null  object \n",
      " 3   ads                               14066 non-null  object \n",
      " 4   campaign_name                     14066 non-null  object \n",
      " 5   ad_set_name                       14066 non-null  object \n",
      " 6   reach                             12994 non-null  float64\n",
      " 7   impressions                       12994 non-null  float64\n",
      " 8   frequency                         12994 non-null  float64\n",
      " 9   spent                             12910 non-null  float64\n",
      " 10  purchases                         275 non-null    float64\n",
      " 11  purchases_conversion_value        162 non-null    float64\n",
      " 12  clicks                            10613 non-null  float64\n",
      " 13  cpc_(cost_per_link_click)         10613 non-null  float64\n",
      " 14  clicks_(all)                      11097 non-null  float64\n",
      " 15  cpc_(all)                         11097 non-null  float64\n",
      " 16  cpm_(cost_per_1,000_impressions)  12910 non-null  float64\n",
      " 17  ctr_(all)                         11097 non-null  float64\n",
      " 18  views                             8195 non-null   float64\n",
      " 19  page_engagement                   11366 non-null  float64\n",
      " 20  follows_or_likes                  476 non-null    float64\n",
      " 21  post_comments                     1149 non-null   float64\n",
      " 22  post_engagements                  11366 non-null  float64\n",
      " 23  post_reactions                    9454 non-null   float64\n",
      " 24  post_shares                       6367 non-null   float64\n",
      " 25  photo_views                       10 non-null     float64\n",
      " 26  video_plays_at_100%               5572 non-null   float64\n",
      " 27  video_plays_at_25%                5885 non-null   float64\n",
      " 28  adds_to_cart                      452 non-null    float64\n",
      " 29  adds_to_wishlist                  0 non-null      float64\n",
      " 30  leads                             8227 non-null   float64\n",
      "dtypes: float64(25), object(6)\n",
      "memory usage: 3.3+ MB\n"
     ]
    }
   ],
   "source": [
    "meta1.info()"
   ]
  }
 ],
 "metadata": {
  "kernelspec": {
   "display_name": "CAB_V1",
   "language": "python",
   "name": "python3"
  },
  "language_info": {
   "codemirror_mode": {
    "name": "ipython",
    "version": 3
   },
   "file_extension": ".py",
   "mimetype": "text/x-python",
   "name": "python",
   "nbconvert_exporter": "python",
   "pygments_lexer": "ipython3",
   "version": "3.12.2"
  }
 },
 "nbformat": 4,
 "nbformat_minor": 2
}
